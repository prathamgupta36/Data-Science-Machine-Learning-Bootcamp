{
 "cells": [
  {
   "cell_type": "markdown",
   "metadata": {
    "id": "EvlhTZt71Xzi"
   },
   "source": [
    "# Importing packages\n"
   ]
  },
  {
   "cell_type": "code",
   "execution_count": 1,
   "metadata": {
    "id": "PzZMiUnjdgNn"
   },
   "outputs": [],
   "source": [
    "# Pandas provides data structures like DataFrame and Series that allow easy handling of data.\n",
    "import pandas as pd\n",
    "\n",
    "# For numerical Calculations\n",
    "import numpy as np\n",
    "\n",
    "# EDA imports\n",
    "# Libraries for data visualization.\n",
    "import matplotlib.pyplot as plt # Matplotlib is the basic plotting library\n",
    "import seaborn as sns           # Seaborn provides higher-level and aesthetically pleasing visualizations.\n",
    "\n",
    "# It contains a wide range of algorithms for classification, regression, clustering, dimensionality reduction, etc.\n",
    "# Used for model building, data processing, \n",
    "import sklearn\n",
    "\n",
    "# Some functions of sklearn module\n",
    "\n",
    "# It scales the features to have a mean of 0 and a standard deviation of 1.\n",
    "from sklearn.preprocessing import StandardScaler\n",
    "\n",
    "# A function to split the dataset into training and testing sets. \n",
    "# It's essential for evaluating model performance on unseen data.\n",
    "from sklearn.model_selection import train_test_split\n",
    "\n",
    "# A classification algorithm used for binary and multi-class classification tasks.\n",
    "from sklearn.linear_model import LogisticRegression\n",
    "\n",
    "# An ensemble learning method used for classification tasks. It builds multiple decision trees and combines their predictions to improve accuracy.\n",
    "from sklearn.ensemble import RandomForestClassifier\n",
    "\n",
    "# Metrics for evaluating model performance. Accuracy measures the proportion of correct predictions, while precision and recall are useful for imbalanced datasets.\n",
    "from sklearn.metrics import accuracy_score, precision_score, recall_score\n",
    "\n",
    "# This is used to scale the features of a dataset to a specific range, typically between 0 and 1, by performing min-max normalization.\n",
    "from sklearn.preprocessing import MinMaxScaler"
   ]
  },
  {
   "cell_type": "markdown",
   "metadata": {
    "id": "R_Lk-tt21knC"
   },
   "source": [
    "# Load the dataset into data\n"
   ]
  },
  {
   "cell_type": "code",
   "execution_count": 2,
   "metadata": {
    "id": "iVZhzqSfdg0L"
   },
   "outputs": [],
   "source": [
    "# Import Supermarket survey dataset\n",
    "supermarket_data = pd.read_csv(\"supermarket_survey.csv\")"
   ]
  },
  {
   "cell_type": "markdown",
   "metadata": {
    "id": "7U5Lt7Wc1-0o"
   },
   "source": [
    "# Dataset overview and statistical summary\n"
   ]
  },
  {
   "cell_type": "code",
   "execution_count": 3,
   "metadata": {},
   "outputs": [
    {
     "data": {
      "text/html": [
       "<div>\n",
       "<style scoped>\n",
       "    .dataframe tbody tr th:only-of-type {\n",
       "        vertical-align: middle;\n",
       "    }\n",
       "\n",
       "    .dataframe tbody tr th {\n",
       "        vertical-align: top;\n",
       "    }\n",
       "\n",
       "    .dataframe thead th {\n",
       "        text-align: right;\n",
       "    }\n",
       "</style>\n",
       "<table border=\"1\" class=\"dataframe\">\n",
       "  <thead>\n",
       "    <tr style=\"text-align: right;\">\n",
       "      <th></th>\n",
       "      <th>randomInt</th>\n",
       "      <th>age</th>\n",
       "      <th>gender</th>\n",
       "      <th>district</th>\n",
       "      <th>modeOfTransportation</th>\n",
       "      <th>distance</th>\n",
       "      <th>G03Q13amountOfPeople</th>\n",
       "      <th>income</th>\n",
       "      <th>frequency</th>\n",
       "      <th>days[1]</th>\n",
       "      <th>...</th>\n",
       "      <th>satisGlutenfreeProducts</th>\n",
       "      <th>satisAnimalProducts</th>\n",
       "      <th>ideasExtendedBusiness</th>\n",
       "      <th>ideasHelpCarry</th>\n",
       "      <th>ideasCustomerCouncil</th>\n",
       "      <th>ideasFreeWifi</th>\n",
       "      <th>ideasTouchDisplay</th>\n",
       "      <th>ideasSelfCheckout</th>\n",
       "      <th>ideasBikeParking</th>\n",
       "      <th>ideasUndergroundParking</th>\n",
       "    </tr>\n",
       "  </thead>\n",
       "  <tbody>\n",
       "    <tr>\n",
       "      <th>0</th>\n",
       "      <td>4</td>\n",
       "      <td>NaN</td>\n",
       "      <td>Male</td>\n",
       "      <td>Godham</td>\n",
       "      <td>Own Car</td>\n",
       "      <td>1-2km</td>\n",
       "      <td>3</td>\n",
       "      <td>120000.0</td>\n",
       "      <td>Twice</td>\n",
       "      <td>No</td>\n",
       "      <td>...</td>\n",
       "      <td>8.0</td>\n",
       "      <td>7.0</td>\n",
       "      <td>2.0</td>\n",
       "      <td>4.0</td>\n",
       "      <td>3.0</td>\n",
       "      <td>4.0</td>\n",
       "      <td>NaN</td>\n",
       "      <td>4.0</td>\n",
       "      <td>NaN</td>\n",
       "      <td>NaN</td>\n",
       "    </tr>\n",
       "    <tr>\n",
       "      <th>1</th>\n",
       "      <td>4</td>\n",
       "      <td>NaN</td>\n",
       "      <td>NaN</td>\n",
       "      <td>NaN</td>\n",
       "      <td>NaN</td>\n",
       "      <td>NaN</td>\n",
       "      <td>NaN</td>\n",
       "      <td>NaN</td>\n",
       "      <td>NaN</td>\n",
       "      <td>No</td>\n",
       "      <td>...</td>\n",
       "      <td>NaN</td>\n",
       "      <td>NaN</td>\n",
       "      <td>NaN</td>\n",
       "      <td>NaN</td>\n",
       "      <td>NaN</td>\n",
       "      <td>NaN</td>\n",
       "      <td>NaN</td>\n",
       "      <td>NaN</td>\n",
       "      <td>NaN</td>\n",
       "      <td>NaN</td>\n",
       "    </tr>\n",
       "    <tr>\n",
       "      <th>2</th>\n",
       "      <td>3</td>\n",
       "      <td>20-25</td>\n",
       "      <td>Female</td>\n",
       "      <td>Springtown</td>\n",
       "      <td>Own Car</td>\n",
       "      <td>&gt;7km</td>\n",
       "      <td>2</td>\n",
       "      <td>15.0</td>\n",
       "      <td>Three times</td>\n",
       "      <td>No</td>\n",
       "      <td>...</td>\n",
       "      <td>7.0</td>\n",
       "      <td>NaN</td>\n",
       "      <td>7.0</td>\n",
       "      <td>7.0</td>\n",
       "      <td>7.0</td>\n",
       "      <td>7.0</td>\n",
       "      <td>NaN</td>\n",
       "      <td>7.0</td>\n",
       "      <td>7.0</td>\n",
       "      <td>7.0</td>\n",
       "    </tr>\n",
       "    <tr>\n",
       "      <th>3</th>\n",
       "      <td>4</td>\n",
       "      <td>NaN</td>\n",
       "      <td>NaN</td>\n",
       "      <td>NaN</td>\n",
       "      <td>NaN</td>\n",
       "      <td>NaN</td>\n",
       "      <td>NaN</td>\n",
       "      <td>1337.0</td>\n",
       "      <td>NaN</td>\n",
       "      <td>No</td>\n",
       "      <td>...</td>\n",
       "      <td>NaN</td>\n",
       "      <td>NaN</td>\n",
       "      <td>NaN</td>\n",
       "      <td>NaN</td>\n",
       "      <td>NaN</td>\n",
       "      <td>NaN</td>\n",
       "      <td>NaN</td>\n",
       "      <td>NaN</td>\n",
       "      <td>NaN</td>\n",
       "      <td>NaN</td>\n",
       "    </tr>\n",
       "    <tr>\n",
       "      <th>4</th>\n",
       "      <td>3</td>\n",
       "      <td>15-20</td>\n",
       "      <td>Male</td>\n",
       "      <td>Piltunder</td>\n",
       "      <td>Own Car</td>\n",
       "      <td>1-2km</td>\n",
       "      <td>4</td>\n",
       "      <td>250000.0</td>\n",
       "      <td>Twice</td>\n",
       "      <td>No</td>\n",
       "      <td>...</td>\n",
       "      <td>8.0</td>\n",
       "      <td>1.0</td>\n",
       "      <td>9.0</td>\n",
       "      <td>2.0</td>\n",
       "      <td>1.0</td>\n",
       "      <td>10.0</td>\n",
       "      <td>10.0</td>\n",
       "      <td>10.0</td>\n",
       "      <td>8.0</td>\n",
       "      <td>NaN</td>\n",
       "    </tr>\n",
       "  </tbody>\n",
       "</table>\n",
       "<p>5 rows × 46 columns</p>\n",
       "</div>"
      ],
      "text/plain": [
       "   randomInt    age  gender    district modeOfTransportation distance  \\\n",
       "0          4    NaN    Male      Godham              Own Car    1-2km   \n",
       "1          4    NaN     NaN         NaN                  NaN      NaN   \n",
       "2          3  20-25  Female  Springtown              Own Car     >7km   \n",
       "3          4    NaN     NaN         NaN                  NaN      NaN   \n",
       "4          3  15-20    Male   Piltunder              Own Car    1-2km   \n",
       "\n",
       "  G03Q13amountOfPeople    income    frequency days[1]  ...  \\\n",
       "0                    3  120000.0        Twice      No  ...   \n",
       "1                  NaN       NaN          NaN      No  ...   \n",
       "2                    2      15.0  Three times      No  ...   \n",
       "3                  NaN    1337.0          NaN      No  ...   \n",
       "4                    4  250000.0        Twice      No  ...   \n",
       "\n",
       "  satisGlutenfreeProducts satisAnimalProducts ideasExtendedBusiness  \\\n",
       "0                     8.0                 7.0                   2.0   \n",
       "1                     NaN                 NaN                   NaN   \n",
       "2                     7.0                 NaN                   7.0   \n",
       "3                     NaN                 NaN                   NaN   \n",
       "4                     8.0                 1.0                   9.0   \n",
       "\n",
       "  ideasHelpCarry ideasCustomerCouncil ideasFreeWifi ideasTouchDisplay  \\\n",
       "0            4.0                  3.0           4.0               NaN   \n",
       "1            NaN                  NaN           NaN               NaN   \n",
       "2            7.0                  7.0           7.0               NaN   \n",
       "3            NaN                  NaN           NaN               NaN   \n",
       "4            2.0                  1.0          10.0              10.0   \n",
       "\n",
       "  ideasSelfCheckout ideasBikeParking ideasUndergroundParking  \n",
       "0               4.0              NaN                     NaN  \n",
       "1               NaN              NaN                     NaN  \n",
       "2               7.0              7.0                     7.0  \n",
       "3               NaN              NaN                     NaN  \n",
       "4              10.0              8.0                     NaN  \n",
       "\n",
       "[5 rows x 46 columns]"
      ]
     },
     "execution_count": 3,
     "metadata": {},
     "output_type": "execute_result"
    }
   ],
   "source": [
    "# Used delimiter as ';' because without that the data was incomprehensible\n",
    "supermarket_data = pd.read_csv(\"supermarket_survey.csv\", delimiter=\";\")\n",
    "\n",
    "supermarket_data.describe()\n",
    "supermarket_data.head()"
   ]
  },
  {
   "cell_type": "code",
   "execution_count": 4,
   "metadata": {},
   "outputs": [
    {
     "name": "stdout",
     "output_type": "stream",
     "text": [
      "Male                 232\n",
      "Female                84\n",
      "Prefer not to say     22\n",
      "Diverse                9\n",
      "Name: gender, dtype: int64\n",
      "\n",
      "\n",
      "Springtown    103\n",
      "Duckborg       77\n",
      "Godham         68\n",
      "Metrapalis     60\n",
      "Piltunder      26\n",
      "Name: district, dtype: int64\n",
      "\n",
      "\n",
      "Bicycle                       108\n",
      "Walking                       105\n",
      "Own Car                        97\n",
      "Public transportation          20\n",
      "Rented car (“car sharing”)      6\n",
      "Taxi                            5\n",
      "Name: modeOfTransportation, dtype: int64\n",
      "\n",
      "\n",
      "Twice                   136\n",
      "Once                     99\n",
      "Three times              69\n",
      "Four times               23\n",
      "More than four times     12\n",
      "Name: frequency, dtype: int64\n",
      "\n",
      "\n"
     ]
    },
    {
     "data": {
      "image/png": "[encoded data removed]",
      "text/plain": [
       "<Figure size 720x432 with 1 Axes>"
      ]
     },
     "metadata": {
      "needs_background": "light"
     },
     "output_type": "display_data"
    },
    {
     "name": "stdout",
     "output_type": "stream",
     "text": [
      "modeOfTransportation  Bicycle  Own Car  Public transportation  \\\n",
      "district                                                        \n",
      "Duckborg                   28       23                      3   \n",
      "Godham                     18       23                      3   \n",
      "Metrapalis                 17       11                      4   \n",
      "Piltunder                   9        7                      3   \n",
      "Springtown                 36       29                      6   \n",
      "\n",
      "modeOfTransportation  Rented car (“car sharing”)  Taxi  Walking  \n",
      "district                                                         \n",
      "Duckborg                                       1     2       20  \n",
      "Godham                                         2     0       21  \n",
      "Metrapalis                                     2     1       25  \n",
      "Piltunder                                      0     0        7  \n",
      "Springtown                                     1     1       29  \n"
     ]
    }
   ],
   "source": [
    "# Select the categorical columns for analysis\n",
    "categorical_columns = ['gender', 'district', 'modeOfTransportation', 'frequency']\n",
    "\n",
    "# Perform frequency count for each categorical column\n",
    "for column in categorical_columns:\n",
    "    print(supermarket_data[column].value_counts())\n",
    "    print('\\n')\n",
    "\n",
    "# Visualize the distribution of a categorical column using a bar plot\n",
    "plt.figure(figsize=(10, 6))\n",
    "sns.countplot(x='gender', data=supermarket_data)\n",
    "plt.title('Gender Distribution')\n",
    "plt.xlabel('Gender')\n",
    "plt.ylabel('Count')\n",
    "plt.show()\n",
    "\n",
    "# Create a cross-tabulation (crosstab) of two categorical variables\n",
    "cross_tab = pd.crosstab(supermarket_data['district'], supermarket_data['modeOfTransportation'])\n",
    "print(cross_tab)"
   ]
  },
  {
   "cell_type": "markdown",
   "metadata": {
    "id": "AVxZeZ3E40_Y",
    "tags": []
   },
   "source": [
    "# Data cleaning"
   ]
  },
  {
   "cell_type": "code",
   "execution_count": 5,
   "metadata": {},
   "outputs": [],
   "source": [
    "# Drop unnecessary columns\n",
    "columns_to_drop = ['randomInt', 'age']\n",
    "supermarket_data.drop(columns_to_drop, axis=1, inplace=True)\n",
    "\n",
    "# Handle missing values\n",
    "supermarket_data.dropna(subset=['gender'], inplace=True)\n",
    "supermarket_data.fillna(value='Unknown', inplace=True)\n",
    "\n",
    "# Convert categorical variables to appropriate data types\n",
    "categorical_columns = ['gender', 'district', 'modeOfTransportation', 'frequency']\n",
    "for column in categorical_columns:\n",
    "    supermarket_data[column] = supermarket_data[column].astype('category')"
   ]
  },
  {
   "cell_type": "code",
   "execution_count": 6,
   "metadata": {},
   "outputs": [
    {
     "name": "stdout",
     "output_type": "stream",
     "text": [
      "              gender    district modeOfTransportation           distance  \\\n",
      "0               Male      Godham              Own Car              1-2km   \n",
      "2             Female  Springtown              Own Car               >7km   \n",
      "4               Male   Piltunder              Own Car              1-2km   \n",
      "5  Prefer not to say  Metrapalis              Walking  500 meters to 1km   \n",
      "6               Male      Godham              Own Car              1-2km   \n",
      "\n",
      "  G03Q13amountOfPeople    income    frequency days[1] days[2] days[3]  ...  \\\n",
      "0                    3  120000.0        Twice      No      No      No  ...   \n",
      "2                    2      15.0  Three times      No      No     Yes  ...   \n",
      "4                    4  250000.0        Twice      No      No     Yes  ...   \n",
      "5                    1     500.0        Twice      No     Yes      No  ...   \n",
      "6                    2    5000.0         Once      No      No      No  ...   \n",
      "\n",
      "  satisGlutenfreeProducts satisAnimalProducts ideasExtendedBusiness  \\\n",
      "0                     8.0                 7.0                   2.0   \n",
      "2                     7.0             Unknown                   7.0   \n",
      "4                     8.0                 1.0                   9.0   \n",
      "5                    10.0                10.0                   9.0   \n",
      "6                 Unknown                 7.0                   5.0   \n",
      "\n",
      "  ideasHelpCarry ideasCustomerCouncil ideasFreeWifi ideasTouchDisplay  \\\n",
      "0            4.0                  3.0           4.0           Unknown   \n",
      "2            7.0                  7.0           7.0           Unknown   \n",
      "4            2.0                  1.0          10.0              10.0   \n",
      "5            1.0                  1.0           9.0               9.0   \n",
      "6            2.0                  2.0           6.0               3.0   \n",
      "\n",
      "  ideasSelfCheckout ideasBikeParking ideasUndergroundParking  \n",
      "0               4.0          Unknown                 Unknown  \n",
      "2               7.0              7.0                     7.0  \n",
      "4              10.0              8.0                 Unknown  \n",
      "5              10.0              1.0                     1.0  \n",
      "6               9.0              9.0                     9.0  \n",
      "\n",
      "[5 rows x 44 columns]\n"
     ]
    }
   ],
   "source": [
    "# Verify the cleaned dataset\n",
    "print(supermarket_data.head())"
   ]
  },
  {
   "cell_type": "markdown",
   "metadata": {
    "id": "uNvsFV4V7zbk"
   },
   "source": [
    "# EDA"
   ]
  },
  {
   "cell_type": "code",
   "execution_count": 7,
   "metadata": {},
   "outputs": [
    {
     "name": "stdout",
     "output_type": "stream",
     "text": [
      "float64\n"
     ]
    },
    {
     "data": {
      "image/png": "[encoded data removed]",
      "text/plain": [
       "<Figure size 432x288 with 1 Axes>"
      ]
     },
     "metadata": {
      "needs_background": "light"
     },
     "output_type": "display_data"
    },
    {
     "data": {
      "image/png": "[encoded data removed]",
      "text/plain": [
       "<Figure size 432x288 with 1 Axes>"
      ]
     },
     "metadata": {
      "needs_background": "light"
     },
     "output_type": "display_data"
    },
    {
     "data": {
      "image/png": "[encoded data removed]",
      "text/plain": [
       "<Figure size 432x288 with 1 Axes>"
      ]
     },
     "metadata": {
      "needs_background": "light"
     },
     "output_type": "display_data"
    },
    {
     "data": {
      "image/png": "[encoded data removed]",
      "text/plain": [
       "<Figure size 432x288 with 1 Axes>"
      ]
     },
     "metadata": {
      "needs_background": "light"
     },
     "output_type": "display_data"
    },
    {
     "data": {
      "image/png": "[encoded data removed]",
      "text/plain": [
       "<Figure size 432x288 with 1 Axes>"
      ]
     },
     "metadata": {
      "needs_background": "light"
     },
     "output_type": "display_data"
    },
    {
     "data": {
      "image/png": "[encoded data removed]",
      "text/plain": [
       "<Figure size 432x288 with 1 Axes>"
      ]
     },
     "metadata": {
      "needs_background": "light"
     },
     "output_type": "display_data"
    }
   ],
   "source": [
    "# Convert 'income' column to numeric data type\n",
    "supermarket_data['income'] = pd.to_numeric(supermarket_data['income'], errors='coerce')\n",
    "\n",
    "# Check the data type of 'income' column\n",
    "print(supermarket_data['income'].dtype)\n",
    "\n",
    "# Histogram of numerical variables\n",
    "supermarket_data['income'].plot.hist(bins=20)\n",
    "plt.xlabel('Income')\n",
    "plt.ylabel('Count')\n",
    "plt.show()\n",
    "\n",
    "\n",
    "# Histogram of numerical variables\n",
    "supermarket_data['income'].plot.hist(bins=20)\n",
    "plt.xlabel('Income')\n",
    "plt.ylabel('Count')\n",
    "plt.show()\n",
    "\n",
    "# Bar plot of categorical variables\n",
    "supermarket_data['district'].value_counts().plot.bar()\n",
    "plt.xlabel('District')\n",
    "plt.ylabel('Count')\n",
    "plt.show()\n",
    "\n",
    "\n",
    "# Relationship between variables\n",
    "\n",
    "# Convert 'income' and 'ideasSelfCheckout' columns to numeric data type, replacing 'Unknown' with NaN\n",
    "supermarket_data['income'] = pd.to_numeric(supermarket_data['income'], errors='coerce')\n",
    "supermarket_data['ideasSelfCheckout'] = pd.to_numeric(supermarket_data['ideasSelfCheckout'], errors='coerce')\n",
    "\n",
    "# Scatter plot of two numerical variables\n",
    "supermarket_data.plot.scatter(x='income', y='ideasSelfCheckout')\n",
    "plt.xlabel('Income')\n",
    "plt.ylabel('Ideas for Self Checkout')\n",
    "plt.show()\n",
    "\n",
    "\n",
    "# Scatter plot of two numerical variables\n",
    "supermarket_data.plot.scatter(x='income', y='ideasSelfCheckout')\n",
    "plt.xlabel('Income')\n",
    "plt.ylabel('Ideas for Self Checkout')\n",
    "plt.show()\n",
    "\n",
    "# Box plot of a numerical variable across categories\n",
    "supermarket_data.boxplot(column='income', by='gender')\n",
    "plt.xlabel('Gender')\n",
    "plt.ylabel('Income')\n",
    "plt.show()\n"
   ]
  },
  {
   "cell_type": "markdown",
   "metadata": {
    "id": "Sn5RhfmhH34H"
   },
   "source": [
    "# Data Processing and normalization"
   ]
  },
  {
   "cell_type": "code",
   "execution_count": 8,
   "metadata": {},
   "outputs": [],
   "source": [
    "# Drop rows with missing values in the target column\n",
    "supermarket_data = supermarket_data.dropna(subset=['ideasSelfCheckout'])\n",
    "\n",
    "# Convert categorical variables to numerical using one-hot encoding\n",
    "supermarket_data = pd.get_dummies(supermarket_data)\n",
    "\n",
    "# Handle missing values in numerical columns\n",
    "supermarket_data.fillna(supermarket_data.mean(), inplace=True)\n",
    "\n",
    "# Split the data into features (X) and target variable (y)\n",
    "X = supermarket_data.drop('ideasSelfCheckout', axis=1)\n",
    "y = supermarket_data['ideasSelfCheckout']\n",
    "\n",
    "# Normalize the features\n",
    "scaler = MinMaxScaler()\n",
    "X_normalized = scaler.fit_transform(X)"
   ]
  },
  {
   "cell_type": "markdown",
   "metadata": {
    "id": "HryoSeNXJ_qo"
   },
   "source": [
    "# Creating ML model 1"
   ]
  },
  {
   "cell_type": "code",
   "execution_count": 9,
   "metadata": {},
   "outputs": [
    {
     "name": "stderr",
     "output_type": "stream",
     "text": [
      "/opt/conda/lib/python3.9/site-packages/sklearn/linear_model/_logistic.py:814: ConvergenceWarning: lbfgs failed to converge (status=1):\n",
      "STOP: TOTAL NO. of ITERATIONS REACHED LIMIT.\n",
      "\n",
      "Increase the number of iterations (max_iter) or scale the data as shown in:\n",
      "    https://scikit-learn.org/stable/modules/preprocessing.html\n",
      "Please also refer to the documentation for alternative solver options:\n",
      "    https://scikit-learn.org/stable/modules/linear_model.html#logistic-regression\n",
      "  n_iter_i = _check_optimize_result(\n"
     ]
    },
    {
     "data": {
      "text/plain": [
       "LogisticRegression()"
      ]
     },
     "execution_count": 9,
     "metadata": {},
     "output_type": "execute_result"
    }
   ],
   "source": [
    "# Split the dataset into training and testing sets\n",
    "X_train, X_test, y_train, y_test = train_test_split(X_normalized, y, test_size=0.2, random_state=42)\n",
    "\n",
    "# Create and train the logistic regression model\n",
    "logreg_model = LogisticRegression()\n",
    "logreg_model.fit(X_train, y_train)"
   ]
  },
  {
   "cell_type": "markdown",
   "metadata": {
    "id": "_VxNaoutK4AD"
   },
   "source": [
    "## Prediction on Test data"
   ]
  },
  {
   "cell_type": "code",
   "execution_count": 10,
   "metadata": {
    "id": "BLMbQb8HK83z"
   },
   "outputs": [],
   "source": [
    "# Make predictions on the test data\n",
    "y_pred = logreg_model.predict(X_test)"
   ]
  },
  {
   "cell_type": "markdown",
   "metadata": {
    "id": "lNQpdE7kLCy5"
   },
   "source": [
    "## Model 1 Performance"
   ]
  },
  {
   "cell_type": "code",
   "execution_count": 11,
   "metadata": {
    "jupyter": {
     "outputs_hidden": false
    }
   },
   "outputs": [
    {
     "name": "stdout",
     "output_type": "stream",
     "text": [
      "Model 1 Performance:\n",
      "Accuracy: 0.5076923076923077\n",
      "Precision: 0.4951817413355875\n",
      "Recall: 0.5076923076923077\n",
      "F1 Score: 0.4947785547785547\n"
     ]
    },
    {
     "name": "stderr",
     "output_type": "stream",
     "text": [
      "/opt/conda/lib/python3.9/site-packages/sklearn/metrics/_classification.py:1308: UndefinedMetricWarning: Precision is ill-defined and being set to 0.0 in labels with no predicted samples. Use `zero_division` parameter to control this behavior.\n",
      "  _warn_prf(average, modifier, msg_start, len(result))\n"
     ]
    }
   ],
   "source": [
    "from sklearn.metrics import accuracy_score, precision_score, recall_score, f1_score\n",
    "\n",
    "# Make predictions on the test data\n",
    "y_pred = logreg_model.predict(X_test)\n",
    "\n",
    "# Evaluate the performance of the model\n",
    "accuracy = accuracy_score(y_test, y_pred)\n",
    "precision = precision_score(y_test, y_pred, average='weighted')\n",
    "recall = recall_score(y_test, y_pred, average='weighted')\n",
    "f1 = f1_score(y_test, y_pred, average='weighted')\n",
    "\n",
    "print(\"Model 1 Performance:\")\n",
    "print(f\"Accuracy: {accuracy}\")\n",
    "print(f\"Precision: {precision}\")\n",
    "print(f\"Recall: {recall}\")\n",
    "print(f\"F1 Score: {f1}\")\n"
   ]
  },
  {
   "cell_type": "markdown",
   "metadata": {
    "id": "tD9vFgUTL8qk"
   },
   "source": [
    "# Creating ML model 2"
   ]
  },
  {
   "cell_type": "code",
   "execution_count": 12,
   "metadata": {
    "colab": {
     "base_uri": "https://localhost:8080/"
    },
    "id": "7WczE7RZMDqs",
    "outputId": "558a64ee-5aef-4d1e-c7c1-878c281eb05b"
   },
   "outputs": [
    {
     "data": {
      "text/plain": [
       "RandomForestClassifier()"
      ]
     },
     "execution_count": 12,
     "metadata": {},
     "output_type": "execute_result"
    }
   ],
   "source": [
    "# Create and train the random forest classifier model\n",
    "rf_model = RandomForestClassifier()\n",
    "rf_model.fit(X_train, y_train)"
   ]
  },
  {
   "cell_type": "markdown",
   "metadata": {},
   "source": [
    "## Prediction on Test data"
   ]
  },
  {
   "cell_type": "code",
   "execution_count": 13,
   "metadata": {},
   "outputs": [],
   "source": [
    "# Make predictions on the test data\n",
    "y_pred_rf = rf_model.predict(X_test)"
   ]
  },
  {
   "cell_type": "markdown",
   "metadata": {},
   "source": [
    "## ## Model 2 Performance"
   ]
  },
  {
   "cell_type": "code",
   "execution_count": 14,
   "metadata": {
    "jupyter": {
     "outputs_hidden": false
    }
   },
   "outputs": [
    {
     "name": "stdout",
     "output_type": "stream",
     "text": [
      "Model 2 Performance:\n",
      "Accuracy: 0.5538461538461539\n",
      "Precision: 0.444\n",
      "Recall: 0.5538461538461539\n",
      "F1 Score: 0.47397583259652226\n"
     ]
    }
   ],
   "source": [
    "# Evaluate the performance of the model\n",
    "accuracy_rf = accuracy_score(y_test, y_pred_rf)\n",
    "precision_rf = precision_score(y_test, y_pred_rf, average='weighted', zero_division=0)\n",
    "recall_rf = recall_score(y_test, y_pred_rf, average='weighted', zero_division=0)\n",
    "f1_rf = f1_score(y_test, y_pred_rf, average='weighted', zero_division=0)\n",
    "\n",
    "print(\"Model 2 Performance:\")\n",
    "print(f\"Accuracy: {accuracy_rf}\")\n",
    "print(f\"Precision: {precision_rf}\")\n",
    "print(f\"Recall: {recall_rf}\")\n",
    "print(f\"F1 Score: {f1_rf}\")\n"
   ]
  },
  {
   "cell_type": "markdown",
   "metadata": {},
   "source": [
    "# Report and insight from your analysis"
   ]
  },
  {
   "cell_type": "markdown",
   "metadata": {},
   "source": [
    "The supermarket dataset analysis aimed to understand customer preferences and ideas regarding self-checkout systems. The dataset consists of various demographic and behavioral attributes of customers. Two machine learning models, Logistic Regression and Random Forest Classifier, were trained and evaluated to predict customer ideas for self-checkout.\n",
    "\n",
    "## Exploratory Data Analysis (EDA)\n",
    "\n",
    "- **Gender Distribution**: The dataset comprises a higher number of male customers (232) compared to females (84), with a few respondents not disclosing their gender.\n",
    "- **Districts**: Among the districts, Springtown has the highest customer count (103), followed by Duckborg (77), Godham (68), Metrapalis (60), and Piltunder (26).\n",
    "- **Mode of Transportation**: Bicycle and walking are the most common modes of transportation among customers, followed by own car and public transportation.\n",
    "- **Frequency of Visits**: Customers visit the supermarket twice a week most frequently, followed by once a week and three times a week.\n",
    "\n",
    "## Insights\n",
    "\n",
    "1. **Logistic Regression Model Performance**:\n",
    "   - The logistic regression model achieved an accuracy of 0.508, indicating that it correctly predicted customer ideas for self-checkout in 50.8% of cases.\n",
    "   - The precision score of 0.495 suggests that the model has a moderate ability to correctly identify positive instances (customers interested in self-checkout) compared to negative instances.\n",
    "   - The recall score of 0.508 indicates that the model effectively captured 50.8% of the positive instances.\n",
    "   - The F1 score of 0.495 reflects the balanced performance of the model in terms of precision and recall.\n",
    "\n",
    "2. **Random Forest Classifier Model Performance**:\n",
    "   - The random forest classifier achieved an accuracy of 0.569, indicating better performance compared to the logistic regression model.\n",
    "   - The precision score of 0.447 suggests that the model has a lower ability to correctly identify positive instances.\n",
    "   - The recall score of 0.569 indicates that the model effectively captured 56.9% of the positive instances.\n",
    "   - The F1 score of 0.477 reflects the balanced performance of the model in terms of precision and recall.\n",
    "\n",
    "Overall, the random forest classifier outperformed the logistic regression model in predicting customer ideas for self-checkout. However, both models have room for improvement, as indicated by the relatively low precision scores.\n",
    "\n",
    "Further analysis and feature engineering may enhance the models' predictive capabilities. Additionally, gathering more data and considering additional variables, such as customer preferences and demographics, could lead to more accurate predictions and valuable insights into customer behavior regarding self-checkout systems in supermarkets."
   ]
  }
 ],
 "metadata": {
  "colab": {
   "provenance": []
  },
  "kernelspec": {
   "display_name": "Python 3",
   "language": "python",
   "name": "python3"
  },
  "language_info": {
   "codemirror_mode": {
    "name": "ipython",
    "version": 3
   },
   "file_extension": ".py",
   "mimetype": "text/x-python",
   "name": "python",
   "nbconvert_exporter": "python",
   "pygments_lexer": "ipython3",
   "version": "3.8.8"
  }
 },
 "nbformat": 4,
 "nbformat_minor": 4
}
