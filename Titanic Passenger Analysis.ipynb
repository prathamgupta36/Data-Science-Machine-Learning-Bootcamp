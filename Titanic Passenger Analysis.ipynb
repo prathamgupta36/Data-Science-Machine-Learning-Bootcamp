{
 "cells": [
  {
   "cell_type": "markdown",
   "metadata": {
    "id": "EvlhTZt71Xzi"
   },
   "source": [
    "# Importing packages\n"
   ]
  },
  {
   "cell_type": "code",
   "execution_count": null,
   "metadata": {
    "id": "PzZMiUnjdgNn"
   },
   "outputs": [],
   "source": [
    "# Pandas provides data structures like DataFrame and Series that allow easy handling of data.\n",
    "import pandas as pd\n",
    "\n",
    "# For numerical Calculations\n",
    "import numpy as np\n",
    "\n",
    "# EDA imports\n",
    "# Libraries for data visualization.\n",
    "import matplotlib.pyplot as plt # Matplotlib is the basic plotting library\n",
    "import seaborn as sns           # Seaborn provides higher-level and aesthetically pleasing visualizations.\n",
    "\n",
    "# It contains a wide range of algorithms for classification, regression, clustering, dimensionality reduction, etc.\n",
    "# Used for model building, data processing, \n",
    "import sklearn\n",
    "\n",
    "# Some functions of sklearn module\n",
    "\n",
    "# It scales the features to have a mean of 0 and a standard deviation of 1.\n",
    "from sklearn.preprocessing import StandardScaler\n",
    "\n",
    "# A function to split the dataset into training and testing sets. \n",
    "# It's essential for evaluating model performance on unseen data.\n",
    "from sklearn.model_selection import train_test_split\n",
    "\n",
    "# A classification algorithm used for binary and multi-class classification tasks.\n",
    "from sklearn.linear_model import LogisticRegression\n",
    "\n",
    "# An ensemble learning method used for classification tasks. It builds multiple decision trees and combines their predictions to improve accuracy.\n",
    "from sklearn.ensemble import RandomForestClassifier\n",
    "\n",
    "# Metrics for evaluating model performance. Accuracy measures the proportion of correct predictions, while precision and recall are useful for imbalanced datasets.\n",
    "from sklearn.metrics import accuracy_score, precision_score, recall_score\n"
   ]
  },
  {
   "cell_type": "markdown",
   "metadata": {
    "id": "R_Lk-tt21knC"
   },
   "source": [
    "# Load the dataset into data\n"
   ]
  },
  {
   "cell_type": "code",
   "execution_count": 2,
   "metadata": {
    "id": "iVZhzqSfdg0L"
   },
   "outputs": [],
   "source": [
    "# Import Titanic dataset\n",
    "titanic_data = pd.read_csv(\"titanic.csv\")"
   ]
  },
  {
   "cell_type": "markdown",
   "metadata": {
    "id": "7U5Lt7Wc1-0o"
   },
   "source": [
    "# Dataset overview and statistical summary\n"
   ]
  },
  {
   "cell_type": "code",
   "execution_count": 3,
   "metadata": {},
   "outputs": [
    {
     "name": "stdout",
     "output_type": "stream",
     "text": [
      "<class 'pandas.core.frame.DataFrame'>\n",
      "RangeIndex: 1000 entries, 0 to 999\n",
      "Data columns (total 12 columns):\n",
      " #   Column       Non-Null Count  Dtype  \n",
      "---  ------       --------------  -----  \n",
      " 0   PassengerId  1000 non-null   int64  \n",
      " 1   Survived     1000 non-null   int64  \n",
      " 2   Pclass       1000 non-null   int64  \n",
      " 3   Name         1000 non-null   object \n",
      " 4   Sex          1000 non-null   object \n",
      " 5   Age          823 non-null    float64\n",
      " 6   SibSp        1000 non-null   int64  \n",
      " 7   Parch        1000 non-null   int64  \n",
      " 8   Ticket       1000 non-null   object \n",
      " 9   Fare         1000 non-null   float64\n",
      " 10  Cabin        299 non-null    object \n",
      " 11  Embarked     998 non-null    object \n",
      "dtypes: float64(2), int64(5), object(5)\n",
      "memory usage: 93.9+ KB\n"
     ]
    },
    {
     "data": {
      "text/html": [
       "<div>\n",
       "<style scoped>\n",
       "    .dataframe tbody tr th:only-of-type {\n",
       "        vertical-align: middle;\n",
       "    }\n",
       "\n",
       "    .dataframe tbody tr th {\n",
       "        vertical-align: top;\n",
       "    }\n",
       "\n",
       "    .dataframe thead th {\n",
       "        text-align: right;\n",
       "    }\n",
       "</style>\n",
       "<table border=\"1\" class=\"dataframe\">\n",
       "  <thead>\n",
       "    <tr style=\"text-align: right;\">\n",
       "      <th></th>\n",
       "      <th>PassengerId</th>\n",
       "      <th>Survived</th>\n",
       "      <th>Pclass</th>\n",
       "      <th>Age</th>\n",
       "      <th>SibSp</th>\n",
       "      <th>Parch</th>\n",
       "      <th>Fare</th>\n",
       "    </tr>\n",
       "  </thead>\n",
       "  <tbody>\n",
       "    <tr>\n",
       "      <th>count</th>\n",
       "      <td>1000.000000</td>\n",
       "      <td>1000.000000</td>\n",
       "      <td>1000.000000</td>\n",
       "      <td>823.000000</td>\n",
       "      <td>1000.000000</td>\n",
       "      <td>1000.000000</td>\n",
       "      <td>1000.000000</td>\n",
       "    </tr>\n",
       "    <tr>\n",
       "      <th>mean</th>\n",
       "      <td>500.500000</td>\n",
       "      <td>0.404000</td>\n",
       "      <td>2.274000</td>\n",
       "      <td>30.177606</td>\n",
       "      <td>0.716000</td>\n",
       "      <td>0.571000</td>\n",
       "      <td>56.732249</td>\n",
       "    </tr>\n",
       "    <tr>\n",
       "      <th>std</th>\n",
       "      <td>288.819436</td>\n",
       "      <td>0.490943</td>\n",
       "      <td>0.840018</td>\n",
       "      <td>15.138305</td>\n",
       "      <td>1.312656</td>\n",
       "      <td>1.046926</td>\n",
       "      <td>98.014902</td>\n",
       "    </tr>\n",
       "    <tr>\n",
       "      <th>min</th>\n",
       "      <td>1.000000</td>\n",
       "      <td>0.000000</td>\n",
       "      <td>1.000000</td>\n",
       "      <td>0.420000</td>\n",
       "      <td>0.000000</td>\n",
       "      <td>0.000000</td>\n",
       "      <td>0.000000</td>\n",
       "    </tr>\n",
       "    <tr>\n",
       "      <th>25%</th>\n",
       "      <td>250.750000</td>\n",
       "      <td>0.000000</td>\n",
       "      <td>1.000000</td>\n",
       "      <td>21.000000</td>\n",
       "      <td>0.000000</td>\n",
       "      <td>0.000000</td>\n",
       "      <td>8.050000</td>\n",
       "    </tr>\n",
       "    <tr>\n",
       "      <th>50%</th>\n",
       "      <td>500.500000</td>\n",
       "      <td>0.000000</td>\n",
       "      <td>3.000000</td>\n",
       "      <td>29.000000</td>\n",
       "      <td>0.000000</td>\n",
       "      <td>0.000000</td>\n",
       "      <td>17.600000</td>\n",
       "    </tr>\n",
       "    <tr>\n",
       "      <th>75%</th>\n",
       "      <td>750.250000</td>\n",
       "      <td>1.000000</td>\n",
       "      <td>3.000000</td>\n",
       "      <td>39.500000</td>\n",
       "      <td>1.000000</td>\n",
       "      <td>1.000000</td>\n",
       "      <td>52.000000</td>\n",
       "    </tr>\n",
       "    <tr>\n",
       "      <th>max</th>\n",
       "      <td>1000.000000</td>\n",
       "      <td>1.000000</td>\n",
       "      <td>3.000000</td>\n",
       "      <td>80.000000</td>\n",
       "      <td>8.000000</td>\n",
       "      <td>6.000000</td>\n",
       "      <td>512.329200</td>\n",
       "    </tr>\n",
       "  </tbody>\n",
       "</table>\n",
       "</div>"
      ],
      "text/plain": [
       "       PassengerId     Survived       Pclass         Age        SibSp  \\\n",
       "count  1000.000000  1000.000000  1000.000000  823.000000  1000.000000   \n",
       "mean    500.500000     0.404000     2.274000   30.177606     0.716000   \n",
       "std     288.819436     0.490943     0.840018   15.138305     1.312656   \n",
       "min       1.000000     0.000000     1.000000    0.420000     0.000000   \n",
       "25%     250.750000     0.000000     1.000000   21.000000     0.000000   \n",
       "50%     500.500000     0.000000     3.000000   29.000000     0.000000   \n",
       "75%     750.250000     1.000000     3.000000   39.500000     1.000000   \n",
       "max    1000.000000     1.000000     3.000000   80.000000     8.000000   \n",
       "\n",
       "             Parch         Fare  \n",
       "count  1000.000000  1000.000000  \n",
       "mean      0.571000    56.732249  \n",
       "std       1.046926    98.014902  \n",
       "min       0.000000     0.000000  \n",
       "25%       0.000000     8.050000  \n",
       "50%       0.000000    17.600000  \n",
       "75%       1.000000    52.000000  \n",
       "max       6.000000   512.329200  "
      ]
     },
     "execution_count": 3,
     "metadata": {},
     "output_type": "execute_result"
    }
   ],
   "source": [
    "# Statistical summary for Titanic dataset\n",
    "titanic_data.info()\n",
    "titanic_data.describe()"
   ]
  },
  {
   "cell_type": "code",
   "execution_count": 4,
   "metadata": {},
   "outputs": [
    {
     "name": "stdout",
     "output_type": "stream",
     "text": [
      "0    596\n",
      "1    404\n",
      "Name: Survived, dtype: int64\n",
      "\n",
      "\n",
      "3    527\n",
      "1    253\n",
      "2    220\n",
      "Name: Pclass, dtype: int64\n",
      "\n",
      "\n",
      "male      632\n",
      "female    368\n",
      "Name: Sex, dtype: int64\n",
      "\n",
      "\n",
      "S    684\n",
      "C    204\n",
      "Q    110\n",
      "Name: Embarked, dtype: int64\n",
      "\n",
      "\n"
     ]
    },
    {
     "data": {
      "image/png": "[encoded data removed]",
      "text/plain": [
       "<Figure size 720x432 with 1 Axes>"
      ]
     },
     "metadata": {
      "needs_background": "light"
     },
     "output_type": "display_data"
    },
    {
     "name": "stdout",
     "output_type": "stream",
     "text": [
      "Embarked   C   Q    S\n",
      "Pclass               \n",
      "1         96  13  142\n",
      "2         27  15  178\n",
      "3         81  82  364\n"
     ]
    }
   ],
   "source": [
    "# Categorical variable analysis\n",
    "\n",
    "# Select the categorical columns for analysis\n",
    "categorical_columns = ['Survived', 'Pclass', 'Sex', 'Embarked']\n",
    "\n",
    "# Perform frequency count for each categorical column\n",
    "for column in categorical_columns:\n",
    "    print(titanic_data[column].value_counts())\n",
    "    print('\\n')\n",
    "\n",
    "# Visualize the distribution of a categorical column using a bar plot\n",
    "plt.figure(figsize=(10, 6))\n",
    "sns.countplot(x='Survived', data=titanic_data)\n",
    "plt.title('Survival Distribution')\n",
    "plt.xlabel('Survived')\n",
    "plt.ylabel('Count')\n",
    "plt.show()\n",
    "\n",
    "# Create a cross-tabulation (crosstab) of two categorical variables\n",
    "cross_tab = pd.crosstab(titanic_data['Pclass'], titanic_data['Embarked'])\n",
    "print(cross_tab)"
   ]
  },
  {
   "cell_type": "markdown",
   "metadata": {
    "id": "AVxZeZ3E40_Y",
    "tags": []
   },
   "source": [
    "# Data cleaning"
   ]
  },
  {
   "cell_type": "code",
   "execution_count": 5,
   "metadata": {},
   "outputs": [],
   "source": [
    "# Drop unnecessary columns\n",
    "columns_to_drop = ['PassengerId', 'Name', 'Ticket', 'Cabin']\n",
    "titanic_data.drop(columns_to_drop, axis=1, inplace=True)\n",
    "\n",
    "# Handle missing values\n",
    "titanic_data['Age'].fillna(titanic_data['Age'].mean(), inplace=True)\n",
    "titanic_data['Embarked'].fillna(titanic_data['Embarked'].mode()[0], inplace=True)\n",
    "\n",
    "# Convert categorical variables to appropriate data types\n",
    "titanic_data['Survived'] = titanic_data['Survived'].astype('category')\n",
    "titanic_data['Pclass'] = titanic_data['Pclass'].astype('category')\n",
    "titanic_data['Sex'] = titanic_data['Sex'].astype('category')\n",
    "titanic_data['Embarked'] = titanic_data['Embarked'].astype('category')"
   ]
  },
  {
   "cell_type": "code",
   "execution_count": 6,
   "metadata": {},
   "outputs": [
    {
     "name": "stdout",
     "output_type": "stream",
     "text": [
      "  Survived Pclass     Sex   Age  SibSp  Parch     Fare Embarked\n",
      "0        0      3    male  22.0      1      0   7.2500        S\n",
      "1        1      1  female  38.0      1      0  71.2833        C\n",
      "2        1      3  female  26.0      0      0   7.9250        S\n",
      "3        1      1  female  35.0      1      0  53.1000        S\n",
      "4        0      3    male  35.0      0      0   8.0500        S\n"
     ]
    }
   ],
   "source": [
    "# Verify the cleaned dataset\n",
    "print(titanic_data.head())"
   ]
  },
  {
   "cell_type": "markdown",
   "metadata": {
    "id": "uNvsFV4V7zbk"
   },
   "source": [
    "# EDA"
   ]
  },
  {
   "cell_type": "code",
   "execution_count": 7,
   "metadata": {},
   "outputs": [
    {
     "data": {
      "image/png": "[encoded data removed]",
      "text/plain": [
       "<Figure size 432x288 with 1 Axes>"
      ]
     },
     "metadata": {
      "needs_background": "light"
     },
     "output_type": "display_data"
    },
    {
     "data": {
      "image/png": "[encoded data removed]",
      "text/plain": [
       "<Figure size 432x288 with 1 Axes>"
      ]
     },
     "metadata": {
      "needs_background": "light"
     },
     "output_type": "display_data"
    },
    {
     "data": {
      "image/png": "[encoded data removed]",
      "text/plain": [
       "<Figure size 432x288 with 1 Axes>"
      ]
     },
     "metadata": {
      "needs_background": "light"
     },
     "output_type": "display_data"
    },
    {
     "data": {
      "image/png": "[encoded data removed]",
      "text/plain": [
       "<Figure size 432x288 with 1 Axes>"
      ]
     },
     "metadata": {
      "needs_background": "light"
     },
     "output_type": "display_data"
    }
   ],
   "source": [
    "# Histogram of Age\n",
    "plt.hist(titanic_data['Age'].dropna(), bins=20)\n",
    "plt.xlabel('Age')\n",
    "plt.ylabel('Count')\n",
    "plt.title('Distribution of Age')\n",
    "plt.show()\n",
    "\n",
    "# Bar plot of Passenger Class\n",
    "titanic_data['Pclass'].value_counts().plot(kind='bar')\n",
    "plt.xlabel('Passenger Class')\n",
    "plt.ylabel('Count')\n",
    "plt.title('Distribution of Passenger Class')\n",
    "plt.show()\n",
    "\n",
    "# Relationship between variables\n",
    "\n",
    "# Scatter plot of Age vs Fare\n",
    "sns.scatterplot(x='Age', y='Fare', data=titanic_data)\n",
    "plt.xlabel('Age')\n",
    "plt.ylabel('Fare')\n",
    "plt.title('Age vs Fare')\n",
    "plt.show()\n",
    "\n",
    "# Box plot of Age by Passenger Class\n",
    "sns.boxplot(x='Pclass', y='Age', data=titanic_data)\n",
    "plt.xlabel('Passenger Class')\n",
    "plt.ylabel('Age')\n",
    "plt.title('Age by Passenger Class')\n",
    "plt.show()"
   ]
  },
  {
   "cell_type": "code",
   "execution_count": 8,
   "metadata": {},
   "outputs": [
    {
     "name": "stdout",
     "output_type": "stream",
     "text": [
      "               Age        SibSp        Parch         Fare\n",
      "count  1000.000000  1000.000000  1000.000000  1000.000000\n",
      "mean     30.177606     0.716000     0.571000    56.732249\n",
      "std      13.731893     1.312656     1.046926    98.014902\n",
      "min       0.420000     0.000000     0.000000     0.000000\n",
      "25%      22.000000     0.000000     0.000000     8.050000\n",
      "50%      30.177606     0.000000     0.000000    17.600000\n",
      "75%      36.000000     1.000000     1.000000    52.000000\n",
      "max      80.000000     8.000000     6.000000   512.329200\n",
      "Survived    0    1\n",
      "Sex               \n",
      "female    104  264\n",
      "male      492  140\n"
     ]
    }
   ],
   "source": [
    "# Insights and summary of the titanic dataset\n",
    "\n",
    "# Summary statistics of numeric variables\n",
    "print(titanic_data.describe())\n",
    "\n",
    "# Cross-tabulation of variables\n",
    "cross_tab = pd.crosstab(titanic_data['Sex'], titanic_data['Survived'])\n",
    "print(cross_tab)\n"
   ]
  },
  {
   "cell_type": "markdown",
   "metadata": {},
   "source": [
    "## NOTE - To specify why I chose to import and do some things again later."
   ]
  },
  {
   "cell_type": "markdown",
   "metadata": {},
   "source": [
    "When I started the project, I wanted to divide everything into two parts so that I could manage my time better as well as give the project the time it needed. I had done everything above this note as one part and below as another part. When I completed the first part and wanted to start the second, it gave me a lot of errors which were solved by importing things and doing some of the things again which maybe due to my lack of knowledge of how jupyter notebooks works. I have followed everything else in the same order and documented everything too. I am sorry for any inconvenience. \n",
    "\n",
    "Thank you "
   ]
  },
  {
   "cell_type": "markdown",
   "metadata": {
    "id": "Sn5RhfmhH34H"
   },
   "source": [
    "# Data Processing and normalization"
   ]
  },
  {
   "cell_type": "code",
   "execution_count": 9,
   "metadata": {
    "id": "Kca5qZhBHWNz"
   },
   "outputs": [],
   "source": [
    "# Importing packages\n",
    "import pandas as pd\n",
    "import numpy as np\n",
    "import matplotlib.pyplot as plt\n",
    "import seaborn as sns\n",
    "from sklearn.preprocessing import StandardScaler\n",
    "from sklearn.model_selection import train_test_split\n",
    "from sklearn.linear_model import LogisticRegression\n",
    "from sklearn.ensemble import RandomForestClassifier\n",
    "from sklearn.metrics import accuracy_score, precision_score, recall_score\n",
    "\n",
    "# Load the Titanic dataset\n",
    "titanic_data = pd.read_csv(\"titanic.csv\")\n",
    "\n",
    "# Drop unnecessary columns\n",
    "columns_to_drop = ['PassengerId', 'Name', 'Ticket', 'Cabin']\n",
    "titanic_data.drop(columns_to_drop, axis=1, inplace=True)\n",
    "\n",
    "# Handle missing values\n",
    "titanic_data['Age'].fillna(titanic_data['Age'].mean(), inplace=True)\n",
    "titanic_data['Embarked'].fillna(titanic_data['Embarked'].mode()[0], inplace=True)\n",
    "\n",
    "# Convert categorical variables to appropriate data types\n",
    "categorical_columns = ['Survived', 'Pclass', 'Sex', 'Embarked']\n",
    "for column in categorical_columns:\n",
    "    titanic_data[column] = titanic_data[column].astype('category')\n",
    "\n",
    "# Split the dataset into features and target variable\n",
    "X = titanic_data.drop('Survived', axis=1)\n",
    "y = titanic_data['Survived']\n",
    "\n",
    "# Perform one-hot encoding of categorical variables\n",
    "X_encoded = pd.get_dummies(X)\n",
    "\n",
    "# Normalize numerical variables\n",
    "scaler = StandardScaler()\n",
    "X_normalized = scaler.fit_transform(X_encoded)\n"
   ]
  },
  {
   "cell_type": "markdown",
   "metadata": {},
   "source": [
    "# Creating ML model 1"
   ]
  },
  {
   "cell_type": "code",
   "execution_count": 10,
   "metadata": {},
   "outputs": [
    {
     "data": {
      "text/plain": [
       "LogisticRegression()"
      ]
     },
     "execution_count": 10,
     "metadata": {},
     "output_type": "execute_result"
    }
   ],
   "source": [
    "# Split the dataset into training and testing sets\n",
    "X_train, X_test, y_train, y_test = train_test_split(X_normalized, y, test_size=0.2, random_state=42)\n",
    "\n",
    "# Create and train the logistic regression model\n",
    "logreg_model = LogisticRegression()\n",
    "logreg_model.fit(X_train, y_train)"
   ]
  },
  {
   "cell_type": "markdown",
   "metadata": {},
   "source": [
    "## Prediction on Test data"
   ]
  },
  {
   "cell_type": "code",
   "execution_count": 11,
   "metadata": {},
   "outputs": [],
   "source": [
    "# Make predictions on the test data using the logistic regression model\n",
    "logreg_predictions = logreg_model.predict(X_test)\n"
   ]
  },
  {
   "cell_type": "markdown",
   "metadata": {},
   "source": [
    "## Model 1 Performance"
   ]
  },
  {
   "cell_type": "code",
   "execution_count": 12,
   "metadata": {},
   "outputs": [
    {
     "name": "stdout",
     "output_type": "stream",
     "text": [
      "Logistic Regression Model:\n",
      "Accuracy: 0.775\n",
      "Precision: 0.7741404923599322\n",
      "Recall: 0.775\n"
     ]
    }
   ],
   "source": [
    "# Evaluate the performance of the logistic regression model\n",
    "logreg_accuracy = accuracy_score(y_test, logreg_predictions)\n",
    "logreg_precision = precision_score(y_test, logreg_predictions, average='weighted')\n",
    "logreg_recall = recall_score(y_test, logreg_predictions, average='weighted')\n",
    "\n",
    "# Print the performance metrics of the logistic regression model\n",
    "print(\"Logistic Regression Model:\")\n",
    "print(\"Accuracy:\", logreg_accuracy)\n",
    "print(\"Precision:\", logreg_precision)\n",
    "print(\"Recall:\", logreg_recall)\n"
   ]
  },
  {
   "cell_type": "markdown",
   "metadata": {},
   "source": [
    "# Creating ML model 2"
   ]
  },
  {
   "cell_type": "code",
   "execution_count": 13,
   "metadata": {},
   "outputs": [
    {
     "data": {
      "text/plain": [
       "RandomForestClassifier()"
      ]
     },
     "execution_count": 13,
     "metadata": {},
     "output_type": "execute_result"
    }
   ],
   "source": [
    "# Create and train the random forest classifier model\n",
    "rf_model = RandomForestClassifier()\n",
    "rf_model.fit(X_train, y_train)\n"
   ]
  },
  {
   "cell_type": "markdown",
   "metadata": {},
   "source": [
    "## Prediction on Test data"
   ]
  },
  {
   "cell_type": "code",
   "execution_count": 14,
   "metadata": {},
   "outputs": [],
   "source": [
    "# Make predictions on the test data using the random forest classifier model\n",
    "rf_predictions = rf_model.predict(X_test)\n"
   ]
  },
  {
   "cell_type": "markdown",
   "metadata": {},
   "source": [
    "## ## Model 2 Performance"
   ]
  },
  {
   "cell_type": "code",
   "execution_count": 15,
   "metadata": {},
   "outputs": [
    {
     "name": "stdout",
     "output_type": "stream",
     "text": [
      "\n",
      "Random Forest Classifier Model:\n",
      "Accuracy: 0.735\n",
      "Precision: 0.733986151302191\n",
      "Recall: 0.735\n"
     ]
    }
   ],
   "source": [
    "# Evaluate the performance of the random forest classifier model\n",
    "rf_accuracy = accuracy_score(y_test, rf_predictions)\n",
    "rf_precision = precision_score(y_test, rf_predictions, average='weighted')\n",
    "rf_recall = recall_score(y_test, rf_predictions, average='weighted')\n",
    "\n",
    "# Print the performance metrics of the random forest classifier model\n",
    "print(\"\\nRandom Forest Classifier Model:\")\n",
    "print(\"Accuracy:\", rf_accuracy)\n",
    "print(\"Precision:\", rf_precision)\n",
    "print(\"Recall:\", rf_recall)\n"
   ]
  },
  {
   "cell_type": "markdown",
   "metadata": {},
   "source": [
    "# Report and insight from your analysis"
   ]
  },
  {
   "cell_type": "markdown",
   "metadata": {},
   "source": [
    "The Titanic dataset analysis focuses on predicting the survival of passengers based on various features such as passenger class, gender, age, and fare. Two machine learning models, Logistic Regression and Random Forest Classifier, were trained and evaluated to predict passenger survival.\n",
    "\n",
    "### Exploratory Data Analysis (EDA):\n",
    "- Age Distribution: The histogram shows the distribution of passengers' ages, with a majority falling between 20 and 40 years.\n",
    "- Passenger Class: The bar plot illustrates the distribution of passengers across different classes, with Class 3 having the highest count.\n",
    "- Age vs. Fare: The scatter plot visualizes the relationship between age and fare paid by passengers, indicating a varied distribution with no clear trend.\n",
    "- Age by Passenger Class: The box plot reveals the distribution of ages within different passenger classes, highlighting potential differences in age groups.\n",
    "\n",
    "### Insights:\n",
    "1. Logistic Regression Model Performance:\n",
    "   - Accuracy: The logistic regression model achieved an accuracy of 0.775, indicating that it correctly predicted passenger survival in 77.5% of cases.\n",
    "   - Precision: The precision score of 0.774 suggests that the model has a good ability to correctly identify both survived and non-survived passengers.\n",
    "   - Recall: The recall score of 0.775 indicates that the model effectively captured 77.5% of the actual survived passengers.\n",
    "  \n",
    "2. Random Forest Classifier Model Performance:\n",
    "   - Accuracy: The random forest classifier achieved an accuracy of 0.735, slightly lower than the logistic regression model.\n",
    "   - Precision: The precision score of 0.734 suggests that the model has a good ability to correctly identify both survived and non-survived passengers.\n",
    "   - Recall: The recall score of 0.735 indicates that the model effectively captured 73.5% of the actual survived passengers.\n",
    "\n",
    "Both models performed reasonably well in predicting passenger survival, with the logistic regression model slightly outperforming the random forest classifier in terms of accuracy.\n",
    "\n",
    "It's important to note that the dataset had missing values in the 'Age' and 'Embarked' columns, which were handled by imputing the mean age and the mode of the 'Embarked' column, respectively.\n",
    "\n",
    "Further analysis and feature engineering may enhance the models' predictive capabilities. Additionally, considering additional variables, such as cabin information and exploring feature interactions, could potentially improve the accuracy of the predictions.\n"
   ]
  }
 ],
 "metadata": {
  "colab": {
   "provenance": []
  },
  "kernelspec": {
   "display_name": "Python 3",
   "language": "python",
   "name": "python3"
  },
  "language_info": {
   "codemirror_mode": {
    "name": "ipython",
    "version": 3
   },
   "file_extension": ".py",
   "mimetype": "text/x-python",
   "name": "python",
   "nbconvert_exporter": "python",
   "pygments_lexer": "ipython3",
   "version": "3.8.8"
  }
 },
 "nbformat": 4,
 "nbformat_minor": 4
}
